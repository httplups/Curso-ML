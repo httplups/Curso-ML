{
  "cells": [
    {
      "cell_type": "markdown",
      "metadata": {
        "id": "view-in-github",
        "colab_type": "text"
      },
      "source": [
        "<a href=\"https://colab.research.google.com/github/httplups/Curso-ML/blob/master/notebooks/3-lfb-split-data_ratings.ipynb\" target=\"_parent\"><img src=\"https://colab.research.google.com/assets/colab-badge.svg\" alt=\"Open In Colab\"/></a>"
      ]
    },
    {
      "cell_type": "code",
      "source": [
        "from google.colab import drive\n",
        "drive.mount('/content/drive')"
      ],
      "metadata": {
        "id": "shL7IapSAzq0",
        "outputId": "e41f5858-d5f1-4d0e-8bad-625c11e117a1",
        "colab": {
          "base_uri": "https://localhost:8080/"
        }
      },
      "execution_count": 4,
      "outputs": [
        {
          "output_type": "stream",
          "name": "stdout",
          "text": [
            "Mounted at /content/drive\n"
          ]
        }
      ]
    },
    {
      "cell_type": "code",
      "source": [
        "cd /content/drive/Shareddrives/Filmes Pra TI - Machine Learning"
      ],
      "metadata": {
        "id": "aRXa6tfoBIpV",
        "outputId": "86ecbb2c-b20d-4c6c-ec3a-560dc899bdc5",
        "colab": {
          "base_uri": "https://localhost:8080/"
        }
      },
      "execution_count": 5,
      "outputs": [
        {
          "output_type": "stream",
          "name": "stdout",
          "text": [
            "/content/drive/Shareddrives/Filmes Pra TI - Machine Learning\n"
          ]
        }
      ]
    },
    {
      "cell_type": "code",
      "execution_count": 6,
      "metadata": {
        "id": "Wj0AdIsh8w2I"
      },
      "outputs": [],
      "source": [
        "import pandas as pd\n",
        "import numpy as np\n",
        "import time\n",
        "import datetime"
      ]
    },
    {
      "cell_type": "markdown",
      "source": [
        "all paths are related to drive folder"
      ],
      "metadata": {
        "id": "D69AweeJBWc3"
      }
    },
    {
      "cell_type": "code",
      "execution_count": 7,
      "metadata": {
        "id": "rtePoNgm8w2P"
      },
      "outputs": [],
      "source": [
        "data_dir = 'data/processed/'"
      ]
    },
    {
      "cell_type": "code",
      "execution_count": 8,
      "metadata": {
        "colab": {
          "base_uri": "https://localhost:8080/",
          "height": 214
        },
        "id": "PMTufoxz8w2Q",
        "outputId": "99ec54f0-d632-4577-bfaa-f6ff0d7e0bb2"
      },
      "outputs": [
        {
          "output_type": "execute_result",
          "data": {
            "text/plain": [
              "   userId  movieId  rating            timestamp  Liked  timestamp2\n",
              "0       1        2     3.5  2005-04-02 23:53:47      1  1112486027\n",
              "1       1       29     3.5  2005-04-02 23:31:16      1  1112484676\n",
              "2       1       32     3.5  2005-04-02 23:33:39      1  1112484819\n",
              "3       1       47     3.5  2005-04-02 23:32:07      1  1112484727\n",
              "4       1       50     3.5  2005-04-02 23:29:40      1  1112484580"
            ],
            "text/html": [
              "\n",
              "  <div id=\"df-8fb4fd01-7220-4b40-bacf-823eeb717a4a\">\n",
              "    <div class=\"colab-df-container\">\n",
              "      <div>\n",
              "<style scoped>\n",
              "    .dataframe tbody tr th:only-of-type {\n",
              "        vertical-align: middle;\n",
              "    }\n",
              "\n",
              "    .dataframe tbody tr th {\n",
              "        vertical-align: top;\n",
              "    }\n",
              "\n",
              "    .dataframe thead th {\n",
              "        text-align: right;\n",
              "    }\n",
              "</style>\n",
              "<table border=\"1\" class=\"dataframe\">\n",
              "  <thead>\n",
              "    <tr style=\"text-align: right;\">\n",
              "      <th></th>\n",
              "      <th>userId</th>\n",
              "      <th>movieId</th>\n",
              "      <th>rating</th>\n",
              "      <th>timestamp</th>\n",
              "      <th>Liked</th>\n",
              "      <th>timestamp2</th>\n",
              "    </tr>\n",
              "  </thead>\n",
              "  <tbody>\n",
              "    <tr>\n",
              "      <th>0</th>\n",
              "      <td>1</td>\n",
              "      <td>2</td>\n",
              "      <td>3.5</td>\n",
              "      <td>2005-04-02 23:53:47</td>\n",
              "      <td>1</td>\n",
              "      <td>1112486027</td>\n",
              "    </tr>\n",
              "    <tr>\n",
              "      <th>1</th>\n",
              "      <td>1</td>\n",
              "      <td>29</td>\n",
              "      <td>3.5</td>\n",
              "      <td>2005-04-02 23:31:16</td>\n",
              "      <td>1</td>\n",
              "      <td>1112484676</td>\n",
              "    </tr>\n",
              "    <tr>\n",
              "      <th>2</th>\n",
              "      <td>1</td>\n",
              "      <td>32</td>\n",
              "      <td>3.5</td>\n",
              "      <td>2005-04-02 23:33:39</td>\n",
              "      <td>1</td>\n",
              "      <td>1112484819</td>\n",
              "    </tr>\n",
              "    <tr>\n",
              "      <th>3</th>\n",
              "      <td>1</td>\n",
              "      <td>47</td>\n",
              "      <td>3.5</td>\n",
              "      <td>2005-04-02 23:32:07</td>\n",
              "      <td>1</td>\n",
              "      <td>1112484727</td>\n",
              "    </tr>\n",
              "    <tr>\n",
              "      <th>4</th>\n",
              "      <td>1</td>\n",
              "      <td>50</td>\n",
              "      <td>3.5</td>\n",
              "      <td>2005-04-02 23:29:40</td>\n",
              "      <td>1</td>\n",
              "      <td>1112484580</td>\n",
              "    </tr>\n",
              "  </tbody>\n",
              "</table>\n",
              "</div>\n",
              "      <button class=\"colab-df-convert\" onclick=\"convertToInteractive('df-8fb4fd01-7220-4b40-bacf-823eeb717a4a')\"\n",
              "              title=\"Convert this dataframe to an interactive table.\"\n",
              "              style=\"display:none;\">\n",
              "        \n",
              "  <svg xmlns=\"http://www.w3.org/2000/svg\" height=\"24px\"viewBox=\"0 0 24 24\"\n",
              "       width=\"24px\">\n",
              "    <path d=\"M0 0h24v24H0V0z\" fill=\"none\"/>\n",
              "    <path d=\"M18.56 5.44l.94 2.06.94-2.06 2.06-.94-2.06-.94-.94-2.06-.94 2.06-2.06.94zm-11 1L8.5 8.5l.94-2.06 2.06-.94-2.06-.94L8.5 2.5l-.94 2.06-2.06.94zm10 10l.94 2.06.94-2.06 2.06-.94-2.06-.94-.94-2.06-.94 2.06-2.06.94z\"/><path d=\"M17.41 7.96l-1.37-1.37c-.4-.4-.92-.59-1.43-.59-.52 0-1.04.2-1.43.59L10.3 9.45l-7.72 7.72c-.78.78-.78 2.05 0 2.83L4 21.41c.39.39.9.59 1.41.59.51 0 1.02-.2 1.41-.59l7.78-7.78 2.81-2.81c.8-.78.8-2.07 0-2.86zM5.41 20L4 18.59l7.72-7.72 1.47 1.35L5.41 20z\"/>\n",
              "  </svg>\n",
              "      </button>\n",
              "      \n",
              "  <style>\n",
              "    .colab-df-container {\n",
              "      display:flex;\n",
              "      flex-wrap:wrap;\n",
              "      gap: 12px;\n",
              "    }\n",
              "\n",
              "    .colab-df-convert {\n",
              "      background-color: #E8F0FE;\n",
              "      border: none;\n",
              "      border-radius: 50%;\n",
              "      cursor: pointer;\n",
              "      display: none;\n",
              "      fill: #1967D2;\n",
              "      height: 32px;\n",
              "      padding: 0 0 0 0;\n",
              "      width: 32px;\n",
              "    }\n",
              "\n",
              "    .colab-df-convert:hover {\n",
              "      background-color: #E2EBFA;\n",
              "      box-shadow: 0px 1px 2px rgba(60, 64, 67, 0.3), 0px 1px 3px 1px rgba(60, 64, 67, 0.15);\n",
              "      fill: #174EA6;\n",
              "    }\n",
              "\n",
              "    [theme=dark] .colab-df-convert {\n",
              "      background-color: #3B4455;\n",
              "      fill: #D2E3FC;\n",
              "    }\n",
              "\n",
              "    [theme=dark] .colab-df-convert:hover {\n",
              "      background-color: #434B5C;\n",
              "      box-shadow: 0px 1px 3px 1px rgba(0, 0, 0, 0.15);\n",
              "      filter: drop-shadow(0px 1px 2px rgba(0, 0, 0, 0.3));\n",
              "      fill: #FFFFFF;\n",
              "    }\n",
              "  </style>\n",
              "\n",
              "      <script>\n",
              "        const buttonEl =\n",
              "          document.querySelector('#df-8fb4fd01-7220-4b40-bacf-823eeb717a4a button.colab-df-convert');\n",
              "        buttonEl.style.display =\n",
              "          google.colab.kernel.accessAllowed ? 'block' : 'none';\n",
              "\n",
              "        async function convertToInteractive(key) {\n",
              "          const element = document.querySelector('#df-8fb4fd01-7220-4b40-bacf-823eeb717a4a');\n",
              "          const dataTable =\n",
              "            await google.colab.kernel.invokeFunction('convertToInteractive',\n",
              "                                                     [key], {});\n",
              "          if (!dataTable) return;\n",
              "\n",
              "          const docLinkHtml = 'Like what you see? Visit the ' +\n",
              "            '<a target=\"_blank\" href=https://colab.research.google.com/notebooks/data_table.ipynb>data table notebook</a>'\n",
              "            + ' to learn more about interactive tables.';\n",
              "          element.innerHTML = '';\n",
              "          dataTable['output_type'] = 'display_data';\n",
              "          await google.colab.output.renderOutput(dataTable, element);\n",
              "          const docLink = document.createElement('div');\n",
              "          docLink.innerHTML = docLinkHtml;\n",
              "          element.appendChild(docLink);\n",
              "        }\n",
              "      </script>\n",
              "    </div>\n",
              "  </div>\n",
              "  "
            ]
          },
          "metadata": {},
          "execution_count": 8
        }
      ],
      "source": [
        "rating_df = pd.read_csv(data_dir + 'rating.csv')\n",
        "rating_df.head()"
      ]
    },
    {
      "cell_type": "code",
      "execution_count": 9,
      "metadata": {
        "id": "FaI78xrT8w2V"
      },
      "outputs": [],
      "source": [
        "from sklearn.model_selection import train_test_split"
      ]
    },
    {
      "cell_type": "code",
      "source": [
        "def datetime_to_timestamp(s):\n",
        "    return int(time.mktime(datetime.datetime.strptime(s, '%Y-%m-%d %H:%M:%S').timetuple()))"
      ],
      "metadata": {
        "id": "RWRyG5MfCwWa"
      },
      "execution_count": null,
      "outputs": []
    },
    {
      "cell_type": "code",
      "source": [
        "rating_df['timestamp2'] = rating_df.timestamp.apply(datetime_to_timestamp)"
      ],
      "metadata": {
        "id": "E7B9qC-4Cwkj"
      },
      "execution_count": null,
      "outputs": []
    },
    {
      "cell_type": "code",
      "source": [
        "rating_df = rating_df.sort_values(by='timestamp2')"
      ],
      "metadata": {
        "id": "6PmID9skiMt1"
      },
      "execution_count": 11,
      "outputs": []
    },
    {
      "cell_type": "code",
      "source": [
        "rating_df.to_csv(data_dir + 'rating.csv', index=False)"
      ],
      "metadata": {
        "id": "74baRhMsC_i3"
      },
      "execution_count": 12,
      "outputs": []
    },
    {
      "cell_type": "markdown",
      "metadata": {
        "id": "tlj82_zR8w2S"
      },
      "source": [
        "Split data into train, val and test sets"
      ]
    },
    {
      "cell_type": "code",
      "source": [
        "users = rating_df.userId.unique()\n",
        "users.sort()\n",
        "users"
      ],
      "metadata": {
        "id": "f1Ymo74Pji2G",
        "outputId": "49bd9298-5715-458e-dc10-0f2d38cfbc18",
        "colab": {
          "base_uri": "https://localhost:8080/"
        }
      },
      "execution_count": 16,
      "outputs": [
        {
          "output_type": "execute_result",
          "data": {
            "text/plain": [
              "array([     1,      2,      3, ..., 138491, 138492, 138493])"
            ]
          },
          "metadata": {},
          "execution_count": 16
        }
      ]
    },
    {
      "cell_type": "code",
      "source": [
        "Dataframe_Pandas = pd.DataFrame(data=[[0,1], [2,3], [4,5]], columns = ['First Column', 'Second Column'])\n",
        "Dataframe_Numpy = Dataframe_Pandas.to_numpy()\n",
        "Column_Index_Dictionary = dict(zip(Dataframe_Pandas.columns, \n",
        "list(range(0,len(Dataframe_Pandas.columns)))))"
      ],
      "metadata": {
        "id": "991nLNtZj7uQ"
      },
      "execution_count": 21,
      "outputs": []
    },
    {
      "cell_type": "code",
      "source": [
        "Dataframe_Pandas"
      ],
      "metadata": {
        "id": "qwzH0fEik8B8",
        "outputId": "3cd916f1-8576-4fac-b6d6-0e1e39671e0c",
        "colab": {
          "base_uri": "https://localhost:8080/",
          "height": 143
        }
      },
      "execution_count": 22,
      "outputs": [
        {
          "output_type": "execute_result",
          "data": {
            "text/plain": [
              "   First Column  Second Column\n",
              "0             0              1\n",
              "1             2              3\n",
              "2             4              5"
            ],
            "text/html": [
              "\n",
              "  <div id=\"df-583e8387-3afd-4e5c-bdb0-1890bda84546\">\n",
              "    <div class=\"colab-df-container\">\n",
              "      <div>\n",
              "<style scoped>\n",
              "    .dataframe tbody tr th:only-of-type {\n",
              "        vertical-align: middle;\n",
              "    }\n",
              "\n",
              "    .dataframe tbody tr th {\n",
              "        vertical-align: top;\n",
              "    }\n",
              "\n",
              "    .dataframe thead th {\n",
              "        text-align: right;\n",
              "    }\n",
              "</style>\n",
              "<table border=\"1\" class=\"dataframe\">\n",
              "  <thead>\n",
              "    <tr style=\"text-align: right;\">\n",
              "      <th></th>\n",
              "      <th>First Column</th>\n",
              "      <th>Second Column</th>\n",
              "    </tr>\n",
              "  </thead>\n",
              "  <tbody>\n",
              "    <tr>\n",
              "      <th>0</th>\n",
              "      <td>0</td>\n",
              "      <td>1</td>\n",
              "    </tr>\n",
              "    <tr>\n",
              "      <th>1</th>\n",
              "      <td>2</td>\n",
              "      <td>3</td>\n",
              "    </tr>\n",
              "    <tr>\n",
              "      <th>2</th>\n",
              "      <td>4</td>\n",
              "      <td>5</td>\n",
              "    </tr>\n",
              "  </tbody>\n",
              "</table>\n",
              "</div>\n",
              "      <button class=\"colab-df-convert\" onclick=\"convertToInteractive('df-583e8387-3afd-4e5c-bdb0-1890bda84546')\"\n",
              "              title=\"Convert this dataframe to an interactive table.\"\n",
              "              style=\"display:none;\">\n",
              "        \n",
              "  <svg xmlns=\"http://www.w3.org/2000/svg\" height=\"24px\"viewBox=\"0 0 24 24\"\n",
              "       width=\"24px\">\n",
              "    <path d=\"M0 0h24v24H0V0z\" fill=\"none\"/>\n",
              "    <path d=\"M18.56 5.44l.94 2.06.94-2.06 2.06-.94-2.06-.94-.94-2.06-.94 2.06-2.06.94zm-11 1L8.5 8.5l.94-2.06 2.06-.94-2.06-.94L8.5 2.5l-.94 2.06-2.06.94zm10 10l.94 2.06.94-2.06 2.06-.94-2.06-.94-.94-2.06-.94 2.06-2.06.94z\"/><path d=\"M17.41 7.96l-1.37-1.37c-.4-.4-.92-.59-1.43-.59-.52 0-1.04.2-1.43.59L10.3 9.45l-7.72 7.72c-.78.78-.78 2.05 0 2.83L4 21.41c.39.39.9.59 1.41.59.51 0 1.02-.2 1.41-.59l7.78-7.78 2.81-2.81c.8-.78.8-2.07 0-2.86zM5.41 20L4 18.59l7.72-7.72 1.47 1.35L5.41 20z\"/>\n",
              "  </svg>\n",
              "      </button>\n",
              "      \n",
              "  <style>\n",
              "    .colab-df-container {\n",
              "      display:flex;\n",
              "      flex-wrap:wrap;\n",
              "      gap: 12px;\n",
              "    }\n",
              "\n",
              "    .colab-df-convert {\n",
              "      background-color: #E8F0FE;\n",
              "      border: none;\n",
              "      border-radius: 50%;\n",
              "      cursor: pointer;\n",
              "      display: none;\n",
              "      fill: #1967D2;\n",
              "      height: 32px;\n",
              "      padding: 0 0 0 0;\n",
              "      width: 32px;\n",
              "    }\n",
              "\n",
              "    .colab-df-convert:hover {\n",
              "      background-color: #E2EBFA;\n",
              "      box-shadow: 0px 1px 2px rgba(60, 64, 67, 0.3), 0px 1px 3px 1px rgba(60, 64, 67, 0.15);\n",
              "      fill: #174EA6;\n",
              "    }\n",
              "\n",
              "    [theme=dark] .colab-df-convert {\n",
              "      background-color: #3B4455;\n",
              "      fill: #D2E3FC;\n",
              "    }\n",
              "\n",
              "    [theme=dark] .colab-df-convert:hover {\n",
              "      background-color: #434B5C;\n",
              "      box-shadow: 0px 1px 3px 1px rgba(0, 0, 0, 0.15);\n",
              "      filter: drop-shadow(0px 1px 2px rgba(0, 0, 0, 0.3));\n",
              "      fill: #FFFFFF;\n",
              "    }\n",
              "  </style>\n",
              "\n",
              "      <script>\n",
              "        const buttonEl =\n",
              "          document.querySelector('#df-583e8387-3afd-4e5c-bdb0-1890bda84546 button.colab-df-convert');\n",
              "        buttonEl.style.display =\n",
              "          google.colab.kernel.accessAllowed ? 'block' : 'none';\n",
              "\n",
              "        async function convertToInteractive(key) {\n",
              "          const element = document.querySelector('#df-583e8387-3afd-4e5c-bdb0-1890bda84546');\n",
              "          const dataTable =\n",
              "            await google.colab.kernel.invokeFunction('convertToInteractive',\n",
              "                                                     [key], {});\n",
              "          if (!dataTable) return;\n",
              "\n",
              "          const docLinkHtml = 'Like what you see? Visit the ' +\n",
              "            '<a target=\"_blank\" href=https://colab.research.google.com/notebooks/data_table.ipynb>data table notebook</a>'\n",
              "            + ' to learn more about interactive tables.';\n",
              "          element.innerHTML = '';\n",
              "          dataTable['output_type'] = 'display_data';\n",
              "          await google.colab.output.renderOutput(dataTable, element);\n",
              "          const docLink = document.createElement('div');\n",
              "          docLink.innerHTML = docLinkHtml;\n",
              "          element.appendChild(docLink);\n",
              "        }\n",
              "      </script>\n",
              "    </div>\n",
              "  </div>\n",
              "  "
            ]
          },
          "metadata": {},
          "execution_count": 22
        }
      ]
    },
    {
      "cell_type": "code",
      "source": [
        "Dataframe_Numpy"
      ],
      "metadata": {
        "id": "PG5Xibmxk-G3",
        "outputId": "edda62d4-1f89-4a18-e124-48ce339812d5",
        "colab": {
          "base_uri": "https://localhost:8080/"
        }
      },
      "execution_count": 23,
      "outputs": [
        {
          "output_type": "execute_result",
          "data": {
            "text/plain": [
              "array([[0, 1],\n",
              "       [2, 3],\n",
              "       [4, 5]])"
            ]
          },
          "metadata": {},
          "execution_count": 23
        }
      ]
    },
    {
      "cell_type": "code",
      "source": [
        "Column_Index_Dictionary"
      ],
      "metadata": {
        "id": "B_YYo_NmlD17",
        "outputId": "9960bb59-3513-462d-be31-50e2fe134c5d",
        "colab": {
          "base_uri": "https://localhost:8080/"
        }
      },
      "execution_count": 24,
      "outputs": [
        {
          "output_type": "execute_result",
          "data": {
            "text/plain": [
              "{'First Column': 0, 'Second Column': 1}"
            ]
          },
          "metadata": {},
          "execution_count": 24
        }
      ]
    },
    {
      "cell_type": "code",
      "source": [
        "Dataframe_Numpy[0, Column_Index_Dictionary['Second Column']] = 9\n",
        "Dataframe_Numpy"
      ],
      "metadata": {
        "id": "_9MXt40ilQZ6",
        "outputId": "ce4b266f-596a-4988-a2ae-055c518db238",
        "colab": {
          "base_uri": "https://localhost:8080/"
        }
      },
      "execution_count": 26,
      "outputs": [
        {
          "output_type": "execute_result",
          "data": {
            "text/plain": [
              "array([[0, 9],\n",
              "       [2, 3],\n",
              "       [4, 5]])"
            ]
          },
          "metadata": {},
          "execution_count": 26
        }
      ]
    },
    {
      "cell_type": "code",
      "source": [
        "for i, user in enumerate(users):\n",
        "    # ratings of one user sorted by timestamp2\n",
        "    group = rating_df[rating_df.userId == user]\n",
        "    train, test = train_test_split(group, test_size=0.3, shuffle=False)\n",
        "    val, test = train_test_split(test, test_size=0.5, shuffle=False)\n",
        "\n",
        "    if i == 0:\n",
        "        test.to_csv(data_dir + 'test_rating.csv', index=False)\n",
        "        train.to_csv(data_dir + 'train_rating.csv', index=False)\n",
        "        val.to_csv(data_dir + 'val_rating.csv', index=False)\n",
        "    else:\n",
        "        # append to existing csv file\n",
        "        test.to_csv(data_dir + 'test_rating.csv', index=False, header=False, mode='a')\n",
        "        train.to_csv(data_dir + 'train_rating.csv', index=False, header=False, mode='a')\n",
        "        val.to_csv(data_dir + 'val_rating.csv',  index=False, header=False, mode='a')\n",
        "\n",
        "    if (i % 1000) == 0:\n",
        "        print(user)"
      ],
      "metadata": {
        "id": "gaEuJ8tHFR3B",
        "outputId": "68ef9e5d-433b-43ed-b908-cbdf22a408fc",
        "colab": {
          "base_uri": "https://localhost:8080/"
        }
      },
      "execution_count": 28,
      "outputs": [
        {
          "output_type": "stream",
          "name": "stdout",
          "text": [
            "1\n",
            "1001\n",
            "2001\n",
            "3001\n",
            "4001\n",
            "5001\n",
            "6001\n",
            "7001\n",
            "8001\n",
            "9001\n",
            "10001\n",
            "11001\n",
            "12001\n",
            "13001\n",
            "14001\n",
            "15001\n",
            "16001\n",
            "17001\n",
            "18001\n",
            "19001\n",
            "20001\n",
            "21001\n",
            "22001\n",
            "23001\n",
            "24001\n",
            "25001\n",
            "26001\n",
            "27001\n",
            "28001\n",
            "29001\n",
            "30001\n",
            "31001\n",
            "32001\n",
            "33001\n",
            "34001\n",
            "35001\n",
            "36001\n",
            "37001\n",
            "38001\n",
            "39001\n",
            "40001\n",
            "41001\n",
            "42001\n",
            "43001\n",
            "44001\n",
            "45001\n",
            "46001\n",
            "47001\n",
            "48001\n",
            "49001\n",
            "50001\n",
            "51001\n",
            "52001\n",
            "53001\n",
            "54001\n",
            "55001\n",
            "56001\n",
            "57001\n",
            "58001\n",
            "59001\n",
            "60001\n",
            "61001\n",
            "62001\n",
            "63001\n",
            "64001\n",
            "65001\n",
            "66001\n",
            "67001\n",
            "68001\n",
            "69001\n",
            "70001\n",
            "71001\n",
            "72001\n",
            "73001\n",
            "74001\n",
            "75001\n",
            "76001\n",
            "77001\n",
            "78001\n",
            "79001\n",
            "80001\n",
            "81001\n",
            "82001\n",
            "83001\n",
            "84001\n",
            "85001\n",
            "86001\n",
            "87001\n",
            "88001\n",
            "89001\n",
            "90001\n",
            "91001\n",
            "92001\n",
            "93001\n",
            "94001\n",
            "95001\n",
            "96001\n",
            "97001\n",
            "98001\n",
            "99001\n",
            "100001\n",
            "101001\n",
            "102001\n",
            "103001\n",
            "104001\n",
            "105001\n",
            "106001\n",
            "107001\n",
            "108001\n",
            "109001\n",
            "110001\n",
            "111001\n",
            "112001\n",
            "113001\n",
            "114001\n",
            "115001\n",
            "116001\n",
            "117001\n",
            "118001\n",
            "119001\n",
            "120001\n",
            "121001\n",
            "122001\n",
            "123001\n",
            "124001\n",
            "125001\n",
            "126001\n",
            "127001\n",
            "128001\n",
            "129001\n",
            "130001\n",
            "131001\n",
            "132001\n",
            "133001\n",
            "134001\n",
            "135001\n",
            "136001\n",
            "137001\n",
            "138001\n"
          ]
        }
      ]
    },
    {
      "cell_type": "code",
      "source": [
        "train = pd.read_csv(data_dir + 'train_rating.csv')\n",
        "val = pd.read_csv(data_dir + 'val_rating.csv')\n",
        "test = pd.read_csv(data_dir + 'test_rating.csv')"
      ],
      "metadata": {
        "id": "4VgG9aMll2Zb"
      },
      "execution_count": 30,
      "outputs": []
    },
    {
      "cell_type": "code",
      "source": [
        "train.shape"
      ],
      "metadata": {
        "id": "YrNiEWa7ESU3",
        "outputId": "de588ac4-c851-4857-9808-ecbb03c67ecc",
        "colab": {
          "base_uri": "https://localhost:8080/"
        }
      },
      "execution_count": 35,
      "outputs": [
        {
          "output_type": "execute_result",
          "data": {
            "text/plain": [
              "(13939850, 6)"
            ]
          },
          "metadata": {},
          "execution_count": 35
        }
      ]
    },
    {
      "cell_type": "code",
      "source": [
        "val.shape"
      ],
      "metadata": {
        "id": "iXvK8QTTEewW",
        "outputId": "54833a73-deb1-4d47-cd5f-43fe6655639c",
        "colab": {
          "base_uri": "https://localhost:8080/"
        }
      },
      "execution_count": 36,
      "outputs": [
        {
          "output_type": "execute_result",
          "data": {
            "text/plain": [
              "(2995066, 6)"
            ]
          },
          "metadata": {},
          "execution_count": 36
        }
      ]
    },
    {
      "cell_type": "code",
      "source": [
        "test.shape"
      ],
      "metadata": {
        "id": "cSkDyhVSEgCO",
        "outputId": "232c40a0-8880-4ee9-f1d3-2295fb92f14e",
        "colab": {
          "base_uri": "https://localhost:8080/"
        }
      },
      "execution_count": 37,
      "outputs": [
        {
          "output_type": "execute_result",
          "data": {
            "text/plain": [
              "(3065347, 6)"
            ]
          },
          "metadata": {},
          "execution_count": 37
        }
      ]
    },
    {
      "cell_type": "code",
      "source": [
        "train.drop_duplicates(inplace=True)\n",
        "val.drop_duplicates(inplace=True)\n",
        "test.drop_duplicates(inplace=True)"
      ],
      "metadata": {
        "id": "coNgiDTEEg9P"
      },
      "execution_count": 34,
      "outputs": []
    },
    {
      "cell_type": "code",
      "source": [],
      "metadata": {
        "id": "wnXed_Q4E0vt"
      },
      "execution_count": null,
      "outputs": []
    }
  ],
  "metadata": {
    "kernelspec": {
      "display_name": "Python 3.8.13 ('filmes_pra_ti')",
      "language": "python",
      "name": "python3"
    },
    "language_info": {
      "codemirror_mode": {
        "name": "ipython",
        "version": 3
      },
      "file_extension": ".py",
      "mimetype": "text/x-python",
      "name": "python",
      "nbconvert_exporter": "python",
      "pygments_lexer": "ipython3",
      "version": "3.8.13"
    },
    "orig_nbformat": 4,
    "vscode": {
      "interpreter": {
        "hash": "1ee09b33f4d9631f9cb5155428297921baf5d98e9f39badcc66d1a88e3bda5da"
      }
    },
    "colab": {
      "provenance": [],
      "include_colab_link": true
    }
  },
  "nbformat": 4,
  "nbformat_minor": 0
}